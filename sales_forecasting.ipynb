{
 "cells": [
  {
   "cell_type": "code",
   "execution_count": 1,
   "id": "b1ff6291",
   "metadata": {},
   "outputs": [
    {
     "name": "stderr",
     "output_type": "stream",
     "text": [
      "/var/folders/9k/fjwgdp8s2bd7ywp5b9yssgw00000gn/T/ipykernel_17203/1859652880.py:24: LangChainDeprecationWarning: The class `ChatOllama` was deprecated in LangChain 0.3.1 and will be removed in 1.0.0. An updated version of the class exists in the `langchain-ollama package and should be used instead. To use it run `pip install -U `langchain-ollama` and import as `from `langchain_ollama import ChatOllama``.\n",
      "  llm = ChatOllama(model=\"llama3\", temperature=0.3)\n"
     ]
    },
    {
     "name": "stdout",
     "output_type": "stream",
     "text": [
      "\n",
      "--- Forecast Explanation ---\n",
      " Here's a simplified explanation of the forecast:\n",
      "\n",
      "**Current Sales**: Let's assume we're starting with $100,000 in sales.\n",
      "\n",
      "**Growth Rate**: Our sales are increasing by 12.15% each month. This means that if we had $100,000 last month, we'll have about $112,150 this month (a 12.15% increase).\n",
      "\n",
      "**Market Conditions**: The market is neutral, which means there aren't any significant changes that would affect our sales.\n",
      "\n",
      "To predict next month's sales, we're using a simple formula:\n",
      "\n",
      "Next Month's Sales = Current Sales × (1 + Growth Rate)\n",
      "\n",
      "Plugging in the numbers:\n",
      "\n",
      "$100,000 × (1 + 0.1215) ≈ $112,150\n",
      "\n",
      "So, based on this calculation, we can expect our sales to grow by about 12.15% each month, which means next month's sales will be around $112,150.\n",
      "\n",
      "Keep in mind that this is a simple prediction and doesn't take into account any external factors that could impact our sales, such as changes in the market or competition.\n",
      "\n",
      "--- Final Agent Outputs ---\n",
      "\n",
      "{'data_summary': 'Sales trend is increasing with an average monthly growth of 12.15%.', 'market_info': 'Market sentiment is neutral.', 'forecast': \"A fun problem!\\n\\nGiven the current sales trend, we can use a simple exponential growth model to predict future sales.\\n\\nLet's break it down:\\n\\n1. **Current sales**: We don't have this information, but let's assume it's some arbitrary value (e.g., $100,000).\\n2. **Average monthly growth rate** (12.15%): This is the rate at which sales are increasing each month.\\n3. **Market sentiment**: Neutral, which suggests no significant changes in market conditions that would impact sales.\\n\\nTo predict next month's sales, we'll use the formula:\\n\\nNext Month's Sales = Current Sales × (1 + Average Monthly Growth Rate)\\n\\nPlugging in the numbers:\\n\\nCurrent Sales = $100,000\\nAverage Monthly Growth Rate = 12.15%\\n\\nNext Month's Sales = $100,000 × (1 + 0.1215) ≈ $112,150\\n\\nSo, based on this calculation, we can predict that next month's sales will be approximately **$112,150**, which represents a growth of about **12.15%** from the current month.\\n\\nReasoning:\\n\\n* The exponential growth model assumes that the growth rate remains constant, which is reasonable given the neutral market sentiment.\\n* A 12.15% monthly growth rate indicates a strong upward trend in sales, which suggests that the underlying drivers of demand are still positive.\\n\\nKeep in mind that this prediction is based on a simple model and doesn't account for potential external factors that could impact sales, such as changes in market conditions, competition, or economic indicators.\", 'explanation': \"Here's a simplified explanation of the forecast:\\n\\n**Current Sales**: Let's assume we're starting with $100,000 in sales.\\n\\n**Growth Rate**: Our sales are increasing by 12.15% each month. This means that if we had $100,000 last month, we'll have about $112,150 this month (a 12.15% increase).\\n\\n**Market Conditions**: The market is neutral, which means there aren't any significant changes that would affect our sales.\\n\\nTo predict next month's sales, we're using a simple formula:\\n\\nNext Month's Sales = Current Sales × (1 + Growth Rate)\\n\\nPlugging in the numbers:\\n\\n$100,000 × (1 + 0.1215) ≈ $112,150\\n\\nSo, based on this calculation, we can expect our sales to grow by about 12.15% each month, which means next month's sales will be around $112,150.\\n\\nKeep in mind that this is a simple prediction and doesn't take into account any external factors that could impact our sales, such as changes in the market or competition.\"}\n"
     ]
    }
   ],
   "source": [
    "\n",
    "from langgraph.graph import StateGraph, END\n",
    "from langchain_community.chat_models import ChatOllama\n",
    "\n",
    "import pandas as pd\n",
    "import random\n",
    "from typing import TypedDict\n",
    "from IPython.display import Image, display\n",
    "\n",
    "# --- Define shared state schema ---\n",
    "# This tells LangGraph what data each agent can read/write.\n",
    "class AgentState(TypedDict, total=False):\n",
    "    data_summary: str\n",
    "    market_info: str\n",
    "    forecast: str\n",
    "    explanation: str\n",
    "\n",
    "# --- Mock sales data ---\n",
    "data = pd.DataFrame({\n",
    "    \"month\": [\"Jan\", \"Feb\", \"Mar\", \"Apr\", \"May\", \"Jun\"],\n",
    "    \"sales\": [120, 135, 160, 180, 175, 210]\n",
    "})\n",
    "\n",
    "# --- Initialize AI model ---\n",
    "llm = ChatOllama(model=\"llama3\", temperature=0.3)\n",
    "\n",
    "# llm = ChatOpenAI(model=\"gpt-4o-mini\", temperature=0.3)\n",
    "\n",
    "# --- Define agents ---\n",
    "def data_agent(state: AgentState):\n",
    "    df = data\n",
    "    trend = \"increasing\" if df[\"sales\"].iloc[-1] > df[\"sales\"].iloc[0] else \"decreasing\"\n",
    "    avg_growth = round((df[\"sales\"].pct_change().mean()) * 100, 2)\n",
    "    summary = f\"Sales trend is {trend} with an average monthly growth of {avg_growth}%.\"\n",
    "    return {\"data_summary\": summary}\n",
    "\n",
    "def market_agent(state: AgentState):\n",
    "    sentiment = random.choice([\"positive\", \"neutral\", \"negative\"])\n",
    "    return {\"market_info\": f\"Market sentiment is {sentiment}.\"}\n",
    "\n",
    "def forecast_agent(state: AgentState):\n",
    "    summary = state[\"data_summary\"]\n",
    "    market_info = state[\"market_info\"]\n",
    "    prompt = f\"{summary} {market_info} Predict next month's sales and give reasoning.\"\n",
    "    forecast_text = llm.invoke(prompt).content\n",
    "    return {\"forecast\": forecast_text}\n",
    "\n",
    "def explain_agent(state: AgentState):\n",
    "    forecast = state[\"forecast\"]\n",
    "    prompt = f\"Explain this forecast in simple business language:\\n{forecast}\"\n",
    "    explanation = llm.invoke(prompt).content\n",
    "    print(\"\\n--- Forecast Explanation ---\\n\", explanation)\n",
    "    return {\"explanation\": explanation}\n",
    "\n",
    "# --- Build the LangGraph ---\n",
    "graph = StateGraph(AgentState)\n",
    "\n",
    "graph.add_node(\"data_agent\", data_agent)\n",
    "graph.add_node(\"market_agent\", market_agent)\n",
    "graph.add_node(\"forecast_agent\", forecast_agent)\n",
    "graph.add_node(\"explain_agent\", explain_agent)\n",
    "\n",
    "graph.add_edge(\"data_agent\", \"market_agent\")\n",
    "graph.add_edge(\"market_agent\", \"forecast_agent\")\n",
    "graph.add_edge(\"forecast_agent\", \"explain_agent\")\n",
    "graph.add_edge(\"explain_agent\", END)\n",
    "graph.set_entry_point(\"data_agent\")\n",
    "\n",
    "# --- Compile & run ---\n",
    "app = graph.compile()\n",
    "result = app.invoke({})\n",
    "print(\"\\n--- Final Agent Outputs ---\\n\")\n",
    "print(result)\n",
    "\n"
   ]
  },
  {
   "cell_type": "code",
   "execution_count": 9,
   "id": "44e207fa",
   "metadata": {},
   "outputs": [
    {
     "data": {
      "image/png": "[encoded data removed]",
      "text/plain": [
       "<IPython.core.display.Image object>"
      ]
     },
     "metadata": {},
     "output_type": "display_data"
    }
   ],
   "source": [
    "from IPython.display import Image, display\n",
    "\n",
    "graph_bytes = app.get_graph(xray=True).draw_mermaid_png()\n",
    "display(Image(graph_bytes))\n"
   ]
  }
 ],
 "metadata": {
  "kernelspec": {
   "display_name": "base",
   "language": "python",
   "name": "python3"
  },
  "language_info": {
   "codemirror_mode": {
    "name": "ipython",
    "version": 3
   },
   "file_extension": ".py",
   "mimetype": "text/x-python",
   "name": "python",
   "nbconvert_exporter": "python",
   "pygments_lexer": "ipython3",
   "version": "3.12.7"
  }
 },
 "nbformat": 4,
 "nbformat_minor": 5
}
